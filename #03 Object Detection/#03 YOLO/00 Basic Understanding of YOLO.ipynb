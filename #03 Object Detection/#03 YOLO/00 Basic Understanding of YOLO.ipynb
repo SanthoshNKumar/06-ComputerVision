{
 "cells": [
  {
   "cell_type": "code",
   "execution_count": null,
   "metadata": {},
   "outputs": [],
   "source": [
    "'''\n",
    "YOLO : You Only Look Once"
   ]
  },
  {
   "cell_type": "code",
   "execution_count": null,
   "metadata": {},
   "outputs": [],
   "source": [
    "'''\n",
    "YOLO : You only Look Once\n",
    "    - Its an algorithms, only look once at the image wich means it perform one forward propagation to the neural network to make\n",
    "      the prediction.\n",
    "\n",
    "Yolo is used for Object Detection\n",
    "\n",
    "Yolo is Very fast but Less Accurate\n",
    "\n",
    "How YOLO Works?\n",
    "    - YOLO algorithm works using the following three techniques:\n",
    "        1. Residual blocks\n",
    "        2. Bounding box regression\n",
    "        3. Intersection Over Union (IOU)\n",
    "        \n",
    "Residual blocks:\n",
    "    - It take an image and split it into an SxS grid, within each of the grid we take m bounding boxes.\n",
    "      there are many grid cells of equal dimension. Every grid cell will detect objects that appear within them.\n",
    "    - Generally Yolo uses 19X19 grid.\n",
    "    - Every grid cell will have seperate output, it look like as below\n",
    "            \n",
    "            y = [1,bx,by,bh,bw,0,1,0]\n",
    "            \n",
    "            here 1 mean, there is a object in the grid cell, otherwise it will be 0. if it is 0 \n",
    "                 means there is no need of calculating bx,by,bh,bw\n",
    "                 \n",
    "                 last 3 values in the above 0,1,0 are reprsent the Object class. here 3 class we have considered\n",
    "                 \n",
    "Bounding box regression:\n",
    "    - A bounding box is an outline that highlights an object in an image.\n",
    "    - Every bounding box in the image consists of the following attributes:\n",
    "        - Width (bw)\n",
    "        - Height (bh)\n",
    "        - Class (for example, person, car, traffic light, etc.)- This is represented by the letter c.\n",
    "        - Bounding box center (bx,by)\n",
    "        - YOLO uses a single bounding box regression to predict the height, width, center, and class of objects.\n",
    "        - For each of the bounding box, the network outputs a class probability and offset values for the bounding box. \n",
    "        - The bounding boxes having the class probability above a threshold value is selected and used to locate the object \n",
    "          within the image.\n",
    "        - YOLO is orders of magnitude faster(45 frames per second) than other object detection algorithms.\n",
    "        \n",
    "Intersection over union (IOU)\n",
    "    - Intersection over union (IOU) is a phenomenon in object detection that describes how boxes overlap. \n",
    "    - YOLO uses IOU to provide an output box that surrounds the objects perfectly.\n",
    "    - Each grid cell is responsible for predicting the bounding boxes and their confidence scores. \n",
    "      The IOU is equal to 1 if the predicted bounding box is the same as the real box. \n",
    "      \n",
    "      Lets say: Actual bounding box in the image is Green color,now algorithm predicting BB is in green color\n",
    "             now how to know that weather algorithm gave us good outcome or bad outcome?\n",
    "             we can find that using Intersection over union\n",
    "            \n",
    "          IOU = Size of the Intersection / Size of union\n",
    "          \n",
    "          if IOU > 0.5, it means BB predicted by algorithm is correct\n",
    "          \n",
    "Limittaion of YOLO:\n",
    "    - The limitation of YOLO algorithm is that it struggles with small objects within the image\n",
    "    \n",
    "Non-max Supression:\n",
    "    - Non-max supression is algorith used to cleaning up when multple boxes are predicted for the same object.\n",
    "    \n",
    "How Non-max Supression works\n",
    "    - Discard all boxes with probability less or equal to 0.6\n",
    "    - pick the box with the largest probability output as a prediction\n",
    "    - Discard any reamining box with IOU greater than or equal to 0.5"
   ]
  },
  {
   "cell_type": "code",
   "execution_count": null,
   "metadata": {},
   "outputs": [],
   "source": [
    "'''\n",
    "Compare YOLO and Fastre RCNN\n",
    "    - YOLO model seems much better at detecting smaller objects\n",
    "    - Run Speed of YOLO v5 small (52.8 FPS)\n",
    "    - Run Speed of Faster RCNN ResNet 50(21.7 FPS)"
   ]
  },
  {
   "cell_type": "code",
   "execution_count": null,
   "metadata": {},
   "outputs": [],
   "source": [
    "'''\n",
    "YOLOv4 consists of\n",
    "\n",
    "    Backbone: CSPDarknet53, \n",
    "    Neck: Spatial Pyramid Pooling additional module, PANet path-aggregation, and \n",
    "    Head: YOLOv3 \n",
    "    \n",
    "    Bag of Freebies (BoF) for backbone: CutMix and Mosaic data augmentation, DropBlock regularization, Class label smoothing\n",
    "\n",
    "    Bag of Specials (BoS) for backbone: Mish activation, Cross-stage partial connections (CSP), Multi-input weighted residual \n",
    "    connections (MiWRC)\n",
    "\n",
    "    Bag of Freebies (BoF) for detector: CIoU-loss, CmBN, DropBlock regularization, Mosaic data augmentation, Self-Adversarial \n",
    "    Training, Eliminate grid sensitivity, Using multiple anchors for a single ground truth, Cosine annealing scheduler, \n",
    "    Optimal hyper-parameters, Random training shapes\n",
    "\n",
    "    Bag of Specials (BoS) for detector: Mish activation, SPP-block, SAM-block, PAN path-aggregation block, DIoU-NMS"
   ]
  },
  {
   "cell_type": "code",
   "execution_count": null,
   "metadata": {},
   "outputs": [],
   "source": [
    "'''\n",
    "Candidates considered for Yolov4 architecture:\n",
    "\n",
    "    Activations: ReLU, leaky-ReLU, parametric-ReLU, ReLU6, SELU, Swish, or Mish\n",
    "    \n",
    "    Bounding box regression loss: MSE, IoU, GIoU, CIoU, DIoU\n",
    "    \n",
    "    Data augmentation: CutOut, MixUp, CutMix, Mosaic\n",
    "    \n",
    "    Regularization method: DropOut, DropPath, Spatial DropOut, or DropBlock\n",
    "    \n",
    "    Normalization of the network activations by their mean and variance: Batch Normalization (BN) , Cross-GPU Batch \n",
    "    Normalization (CGBN or SyncBN), Filter Response Normalization (FRN), or Cross-Iteration Batch Normalization (CBN)\n",
    "    \n",
    "    Skip-connections: Residual connections, Weighted residual connections, Multi-input weighted residual connections, \n",
    "    or Cross stage partial connection\n",
    "    \n",
    "Mosaic :\n",
    "    - Mosaic is a new data augmentation strategy that mixes parts from 4 training images into a single training image to \n",
    "      learn different context."
   ]
  },
  {
   "cell_type": "code",
   "execution_count": null,
   "metadata": {},
   "outputs": [],
   "source": [
    "'''\n",
    "YOLOv4-tiny:\n",
    "    YOLOv4-tiny is the compressed version of YOLOv4. It is proposed based on YOLOv4 to make the network structure simpler \n",
    "    and reduce parameters so that it becomes feasible for developing on mobile and embedded device"
   ]
  },
  {
   "cell_type": "code",
   "execution_count": null,
   "metadata": {},
   "outputs": [],
   "source": []
  }
 ],
 "metadata": {
  "kernelspec": {
   "display_name": "Python 3",
   "language": "python",
   "name": "python3"
  },
  "language_info": {
   "codemirror_mode": {
    "name": "ipython",
    "version": 3
   },
   "file_extension": ".py",
   "mimetype": "text/x-python",
   "name": "python",
   "nbconvert_exporter": "python",
   "pygments_lexer": "ipython3",
   "version": "3.7.4"
  }
 },
 "nbformat": 4,
 "nbformat_minor": 2
}
