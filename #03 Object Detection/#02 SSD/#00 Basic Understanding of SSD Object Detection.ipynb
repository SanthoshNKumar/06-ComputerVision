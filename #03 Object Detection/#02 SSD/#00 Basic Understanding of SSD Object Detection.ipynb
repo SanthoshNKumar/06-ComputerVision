{
 "cells": [
  {
   "cell_type": "code",
   "execution_count": null,
   "metadata": {},
   "outputs": [],
   "source": [
    "'''\n",
    "\n",
    "SSD : Single Shot Detector\n",
    "    - SSD has a base VGG-16 network followed by multibox conv layers\n",
    "    - Base neural network: Extracts features\n",
    "    - To the base VGG network, addded additional convolutional layers for detection. Convolutional layers at the end of \n",
    "      the base network decrease in size progressively. This helps with detection of objects at multiple scales. \n",
    "      The convolutional model for detection is different for each feature layer.\n",
    "    - SSD is stacked with VGG16 for feature extraction,further it has 6 Conv layer which perform classification object detection\n",
    "      SSD makes 8732 prediction for every single object, it means SSD makes 8732 prediction bounding box for every object.futher\n",
    "      it feed into the Non Max Supression for removal of duplication prediction.\n",
    "      \n",
    "Input to the SSD should be object should be surrounded by ground truth box."
   ]
  },
  {
   "cell_type": "code",
   "execution_count": null,
   "metadata": {},
   "outputs": [],
   "source": [
    "'''\n",
    "Architecture of SSD \n"
   ]
  },
  {
   "cell_type": "code",
   "execution_count": null,
   "metadata": {},
   "outputs": [],
   "source": [
    "'''\n",
    "**Note: \n",
    "\n",
    "    If you are using SSD code from git hub its needs the environmets as below\n",
    "\n",
    "    python=3.6.8, tensorflow==1.14 and keras==2.2.5\n",
    "\n",
    "    Dataset for SSD sould be in the format of 'Pascol voc dataset' format"
   ]
  },
  {
   "cell_type": "code",
   "execution_count": null,
   "metadata": {},
   "outputs": [],
   "source": [
    "'''\n",
    "SSD Object Detection for Custom Dataset\n",
    "\n",
    "Environment :\n",
    "Python==3.6.8;cuda ==10.0;CuDNN;tensorflow==1.15.0\n",
    "\n",
    "Step 1:\n",
    "Prepare dataset in the pascal VOC datset format\n",
    "    - Use labelimg tool for annotation\n",
    "    - Each image there will be annotations xml files\n",
    "\n",
    "Step 2: \n",
    "Clone or Download the SSD-Tensorflow Code from github as below\n",
    "https://github.com/balancap/SSD-Tensorflow\n",
    "\n",
    "Step3:\n",
    "Split Actual Dataset into train and test\n",
    "Execute the code file 'Split_train_test.py'\n",
    "\n",
    "Step4:\n",
    "Convert Annotation XML files into TF records\n",
    "Execute the code file 'xmltotfrecords_conversion.py'\n",
    "    - Changes required on above the file before execution\n",
    "        1. Define or metion the Labels class\n",
    "        2. A folder path for labels and Images\n",
    "\n",
    "Step5: Define (Image,Objects) Statistics on very class\n",
    "    - Open 'pascalvoc_2007.py' from datasets folder\n",
    "    - TRAIN_STATISTICS\n",
    "        - tell algorithms that how may images using for training and in those images how many times which particular object \n",
    "          is occuring.\n",
    "    - Test_STATISTICS\n",
    "        - Same as Train_Statistics\n",
    "    - SPLITS_TO_STATISTICS\n",
    "        - Define how many images training and testing\n",
    "    - NUM_CLASSES\n",
    "\n",
    "Step6 : Changes on the file 'pascalvoc_common.py'\n",
    "    - Define Labels name in VOC_Labels\n",
    "\n",
    "Step7:Train your algorithm\n",
    "      Use below the command\n",
    "    \n",
    "      !python train_ssd_network.py --dataset_name=pascalvoc_2007 --dataset_split_name=train --model_name=ssd_300_vgg \n",
    "       --save_summaries_secs=60 --save_interval_secs=600 --weight_decay=0.0005 --optimizer=adam --learning_rate=0.001 \n",
    "       --batch_size=2 --gpu_memory_fraction=0.9checkpoint_exclude_scopes=ssd_300_vgg/conv6,ssd_300_vgg/conv7,\n",
    "       ssd_300_vgg/block8,ssd_300_vgg/block9,ssd_300_vgg/block10,ssd_300_vgg/block11,ssd_300_vgg/block4_box,\n",
    "       ssd_300_vgg/block7_box,ssd_300_vgg/block8_box,ssd_300_vgg/block9_box,ssd_300_vgg/block10_box,ssd_300_vgg/block11_box\n",
    "\n",
    "Step8: Find the final Model files inside log folder"
   ]
  },
  {
   "cell_type": "code",
   "execution_count": null,
   "metadata": {},
   "outputs": [],
   "source": []
  }
 ],
 "metadata": {
  "kernelspec": {
   "display_name": "Python 3",
   "language": "python",
   "name": "python3"
  },
  "language_info": {
   "codemirror_mode": {
    "name": "ipython",
    "version": 3
   },
   "file_extension": ".py",
   "mimetype": "text/x-python",
   "name": "python",
   "nbconvert_exporter": "python",
   "pygments_lexer": "ipython3",
   "version": "3.7.4"
  }
 },
 "nbformat": 4,
 "nbformat_minor": 2
}
