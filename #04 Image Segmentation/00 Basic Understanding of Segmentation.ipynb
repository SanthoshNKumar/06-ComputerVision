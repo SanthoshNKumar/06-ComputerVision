{
 "cells": [
  {
   "cell_type": "code",
   "execution_count": null,
   "metadata": {},
   "outputs": [],
   "source": [
    "'''\n",
    "Image Segmentation :\n",
    "    - Concept of Box removed as mentioned in the OD(Bounding Box) and introduced something called mask."
   ]
  },
  {
   "cell_type": "code",
   "execution_count": null,
   "metadata": {},
   "outputs": [],
   "source": [
    "'''\n",
    "Different Types of Segmentation\n",
    "\n",
    "- Segementation\n",
    "    - Symantic Segementation\n",
    "    - Instance Segementation\n",
    "    - Panoptic Segmentation\n",
    "    \n",
    "Symantic Segementation\n",
    "    - Only Object Pixel are present and rest of the pixels are considered as background(black Color)\n",
    "    - Object will be in white color and other objects all will be in Black Color\n",
    "    - White patches are applied on the object\n",
    "    \n",
    "Instance Segmentation\n",
    "    - \n",
    "    - Here Back ground Objects will be in black color and only on the Objects we will do the masking\n",
    "    - \n",
    "Panoptic Segmentation\n",
    "    - For each of the objects in the image will assigned different color\n",
    "    - Here for background Object also applies Mask\n",
    "    - Panoptic Segmentation will be used in Autonous Car\n",
    "    \n",
    "Different between Symantic,Instance, Panoptic\n",
    "\n",
    "Symantic\n",
    "    - Background : Black\n",
    "    - Object : White\n",
    "    - Object mask always be white\n",
    "\n",
    "Instance\n",
    "    - Background : Normal/ BackWhite\n",
    "    - Object : Transparent Mask\n",
    "    - Object mask will be of different Color\n",
    "\n",
    "Panoptic\n",
    "    - Background : Colored Mask\n",
    "    - Object : Colored Mask \n",
    "    - Object mask will be different mask\n",
    "\n",
    "\n",
    "Tool for Annotation for Segmentation\n",
    "    - VGG Annotator"
   ]
  },
  {
   "cell_type": "code",
   "execution_count": null,
   "metadata": {},
   "outputs": [],
   "source": [
    "'''\n",
    "Mask R-CNN is an extension of the popular Faster R-CNN object detection architecture.\n",
    "Mask R-CNN adds a branch to the already existing Faster R-CNN outputs. "
   ]
  },
  {
   "cell_type": "code",
   "execution_count": null,
   "metadata": {},
   "outputs": [],
   "source": [
    "'''\n",
    "Mask RCNN\n",
    "    - Better Version of Object Detection\n",
    "    - Extension of faster RCNN\n",
    "    - MASK RCNN = Object Detection + Segmentation\n",
    "    - Segmentation is task segregation of Pixel, means find which are the pixels belings to the specific object"
   ]
  },
  {
   "cell_type": "code",
   "execution_count": null,
   "metadata": {},
   "outputs": [],
   "source": [
    "'''\n",
    "Applications of Mask RCNN\n",
    "    - Health Care ex: Identifying the Tumor\n",
    "    - Autonoums Vechicle"
   ]
  },
  {
   "cell_type": "code",
   "execution_count": null,
   "metadata": {},
   "outputs": [],
   "source": [
    "'''\n",
    "How Annonated Json Files looks in MaskRCNN (Segmentation)\n",
    "    - FileName\n",
    "    - Size\n",
    "    - Regions\n",
    "        - Shape attribuyes\n",
    "            - name: \n",
    "            - all_points_x\n",
    "            - all_points_y\n",
    "        - region_attributes\n",
    "            - Names\n",
    " Example: \n",
    "    \n",
    "    \"1.jpg186289\": {\n",
    "        \"filename\": \"1.jpg\",\n",
    "        \"size\": 186289,\n",
    "        \"regions\": [\n",
    "            {\n",
    "                \"shape_attributes\": {\n",
    "                    \"name\": \"polygon\",\n",
    "                    \"all_points_x\": [ 700, 684, 684, 134, 1275, 1719, 1727, 702 ],\n",
    "                    \"all_points_y\": [ 164, 261, 899, 1063, 1239, 1045, 154, 164 ]\n",
    "                },\n",
    "                \"region_attributes\": { \"Names\": \"Laptop\" }\n",
    "            }\n",
    "        ],\n",
    "        \"file_attributes\": {}\n",
    "    }"
   ]
  },
  {
   "cell_type": "code",
   "execution_count": null,
   "metadata": {},
   "outputs": [],
   "source": []
  }
 ],
 "metadata": {
  "kernelspec": {
   "display_name": "Python 3",
   "language": "python",
   "name": "python3"
  },
  "language_info": {
   "codemirror_mode": {
    "name": "ipython",
    "version": 3
   },
   "file_extension": ".py",
   "mimetype": "text/x-python",
   "name": "python",
   "nbconvert_exporter": "python",
   "pygments_lexer": "ipython3",
   "version": "3.7.4"
  }
 },
 "nbformat": 4,
 "nbformat_minor": 2
}
