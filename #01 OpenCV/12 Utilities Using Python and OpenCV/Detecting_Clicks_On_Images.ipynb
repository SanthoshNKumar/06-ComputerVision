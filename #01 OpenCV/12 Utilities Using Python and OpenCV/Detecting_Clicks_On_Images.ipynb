{
 "cells": [
  {
   "cell_type": "code",
   "execution_count": 1,
   "id": "9b06023c",
   "metadata": {},
   "outputs": [],
   "source": [
    "import cv2\n",
    "import numpy as np\n",
    "\n",
    "circles = np.zeros((4,2),np.int)\n",
    "counter = 0\n",
    "\n",
    "def mousePoints(event,x,y,flags,params):\n",
    "    global counter\n",
    "    if event == cv2.EVENT_LBUTTONDOWN:\n",
    "        circles[counter] = x,y\n",
    "        counter = counter + 1\n",
    "        print(circles)\n",
    "        "
   ]
  },
  {
   "cell_type": "code",
   "execution_count": 2,
   "id": "dc5ab7e8",
   "metadata": {},
   "outputs": [],
   "source": [
    "img = cv2.imread('image1.jpg')\n",
    "while True:\n",
    "    \n",
    "    if counter == 4:\n",
    "        width, height = 250,350\n",
    "        pts1 = np.float32([circles[0],circles[1],circles[2],circles[3]])\n",
    "        pts2 = np.float32([[0,0],[width,0],[0,height],[width,height]])\n",
    "        matrix = cv2.getPerspectiveTransform(pts1,pts2)\n",
    "        imgOutput = cv2.warpPerspective(img,matrix,(width,height))\n",
    "        cv2.imshow(\"Output Image \", imgOutput)\n",
    "        \n",
    "    for x in range (0,4):\n",
    "        cv2.circle(img,(circles[x][0],circles[x][1]),3,(0,255,0),cv2.FILLED)\n",
    "        \n",
    "    cv2.imshow(\"Original Image \", img)\n",
    "    \n",
    "    cv2.setMouseCallback(\"Original Image \", mousePoints)\n",
    "    \n",
    "    if cv2.waitKey(1) & 0xFF == ord('q'):\n",
    "        break"
   ]
  },
  {
   "cell_type": "code",
   "execution_count": null,
   "id": "5268dc95",
   "metadata": {},
   "outputs": [],
   "source": []
  }
 ],
 "metadata": {
  "kernelspec": {
   "display_name": "Python 3",
   "language": "python",
   "name": "python3"
  },
  "language_info": {
   "codemirror_mode": {
    "name": "ipython",
    "version": 3
   },
   "file_extension": ".py",
   "mimetype": "text/x-python",
   "name": "python",
   "nbconvert_exporter": "python",
   "pygments_lexer": "ipython3",
   "version": "3.6.8"
  }
 },
 "nbformat": 4,
 "nbformat_minor": 5
}
