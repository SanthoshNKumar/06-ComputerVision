{
 "cells": [
  {
   "cell_type": "code",
   "execution_count": null,
   "metadata": {},
   "outputs": [],
   "source": [
    "'''\n",
    "Edge : \n",
    "    - curves in a digital image at which the image brightness changes sharply.\n",
    "    - Finding the boundaries of objects within images\n",
    "\n",
    "There are three types of edges: \n",
    "\n",
    "    - Horizontal edges\n",
    "    - Vertical edges\n",
    "    - Diagonal edges\n",
    "    \n",
    "Edge detection allows users to observe the features of an image for a significant change in the gray level. \n",
    "\n",
    "Edge Detection Operators are of two types: \n",
    "    - Gradient – based operator which computes first-order derivations in a digital image.\n",
    "        - Sobel operator, Prewitt operator, Robert operator\n",
    "    - Gaussian – based operator which computes second-order derivations in a digital image.\n",
    "        - Canny edge detector, Laplacian of Gaussian \n",
    "\n"
   ]
  }
 ],
 "metadata": {
  "kernelspec": {
   "display_name": "Python 3",
   "language": "python",
   "name": "python3"
  },
  "language_info": {
   "codemirror_mode": {
    "name": "ipython",
    "version": 3
   },
   "file_extension": ".py",
   "mimetype": "text/x-python",
   "name": "python",
   "nbconvert_exporter": "python",
   "pygments_lexer": "ipython3",
   "version": "3.7.4"
  }
 },
 "nbformat": 4,
 "nbformat_minor": 2
}
