{
 "cells": [
  {
   "cell_type": "code",
   "execution_count": null,
   "metadata": {},
   "outputs": [],
   "source": [
    "'''\n",
    "Note : Code has been reference from multiple github source\n",
    "\n",
    "# Steps \n",
    "'''\n",
    "# Read the data from shared Directory\n",
    "# Represent the data as pandas framework('room type', 'image path')\n",
    "# Resize the images into 64*64 using Open CV (cv2.resize)\n",
    "# Transform the Resized Images into array (cv2.imread)\n",
    "# Nomalize the images array by dividing by 255.0\n",
    "# Create Label Encoder for the rooms Labels (bed_room = 0;dining_room = 1;living_room = 2)\n",
    "# Convert the Label encoder to One Hot Encoding representation (This will be our Y)\n"
   ]
  },
  {
   "cell_type": "code",
   "execution_count": 1,
   "metadata": {},
   "outputs": [],
   "source": [
    "import numpy as np \n",
    "import pandas as pd \n",
    "import matplotlib.pyplot as plt\n",
    "import os"
   ]
  },
  {
   "attachments": {
    "CNN_PreprateInputData_01.JPG": {
     "image/jpeg": "[encoded data removed]"
    }
   },
   "cell_type": "markdown",
   "metadata": {},
   "source": [
    "![CNN_PreprateInputData_01.JPG](attachment:CNN_PreprateInputData_01.JPG)"
   ]
  },
  {
   "cell_type": "code",
   "execution_count": 2,
   "metadata": {},
   "outputs": [
    {
     "name": "stdout",
     "output_type": "stream",
     "text": [
      "Types of rooms found:  3\n"
     ]
    }
   ],
   "source": [
    "# Read The data from the cntral location (directory)\n",
    "\n",
    "dataset_path = os.listdir('C:/MyWork/MyLearning/Career Growth/ML/Files/Dataset/rooms_dataset')\n",
    "\n",
    "room_types = os.listdir('C:/MyWork/MyLearning/Career Growth/ML/Files/Dataset/rooms_dataset')\n",
    "\n",
    "print(\"Types of rooms found: \", len(dataset_path))"
   ]
  },
  {
   "cell_type": "code",
   "execution_count": 3,
   "metadata": {},
   "outputs": [],
   "source": [
    "\n",
    "# Go through the Directory of data set 'Rooms' and subfolders 'bed_room' and 'dining_room' and 'living_room'\n",
    "\n",
    "rooms = []\n",
    "\n",
    "for item in room_types:\n",
    "    \n",
    " # Get all the file names\n",
    " all_rooms = os.listdir('C:/MyWork/MyLearning/Career Growth/ML/Files/Dataset/rooms_dataset' + '/' +item)\n",
    "\n",
    " # Add them to the list\n",
    " for room in all_rooms:\n",
    "    rooms.append((item, str('C:/MyWork/MyLearning/Career Growth/ML/Files/Dataset/rooms_dataset' + '/' +item) + '/' + room))\n"
   ]
  },
  {
   "cell_type": "code",
   "execution_count": 4,
   "metadata": {},
   "outputs": [],
   "source": [
    "# Create Data Frame of two columns 'Room type' and 'Image path'\n",
    "rooms_df = pd.DataFrame(data=rooms, columns=['room type', 'image'])"
   ]
  },
  {
   "cell_type": "code",
   "execution_count": 5,
   "metadata": {},
   "outputs": [
    {
     "name": "stdout",
     "output_type": "stream",
     "text": [
      "Total number of rooms in the dataset:  393\n"
     ]
    }
   ],
   "source": [
    "print(\"Total number of rooms in the dataset: \", len(rooms_df))\n",
    "\n",
    "room_count = rooms_df['room type'].value_counts()"
   ]
  },
  {
   "cell_type": "code",
   "execution_count": 6,
   "metadata": {},
   "outputs": [
    {
     "data": {
      "text/html": [
       "<div>\n",
       "<style scoped>\n",
       "    .dataframe tbody tr th:only-of-type {\n",
       "        vertical-align: middle;\n",
       "    }\n",
       "\n",
       "    .dataframe tbody tr th {\n",
       "        vertical-align: top;\n",
       "    }\n",
       "\n",
       "    .dataframe thead th {\n",
       "        text-align: right;\n",
       "    }\n",
       "</style>\n",
       "<table border=\"1\" class=\"dataframe\">\n",
       "  <thead>\n",
       "    <tr style=\"text-align: right;\">\n",
       "      <th></th>\n",
       "      <th>room type</th>\n",
       "      <th>image</th>\n",
       "    </tr>\n",
       "  </thead>\n",
       "  <tbody>\n",
       "    <tr>\n",
       "      <th>0</th>\n",
       "      <td>bed_room</td>\n",
       "      <td>C:/MyWork/MyLearning/Career Growth/ML/Files/Da...</td>\n",
       "    </tr>\n",
       "    <tr>\n",
       "      <th>1</th>\n",
       "      <td>bed_room</td>\n",
       "      <td>C:/MyWork/MyLearning/Career Growth/ML/Files/Da...</td>\n",
       "    </tr>\n",
       "    <tr>\n",
       "      <th>2</th>\n",
       "      <td>bed_room</td>\n",
       "      <td>C:/MyWork/MyLearning/Career Growth/ML/Files/Da...</td>\n",
       "    </tr>\n",
       "    <tr>\n",
       "      <th>3</th>\n",
       "      <td>bed_room</td>\n",
       "      <td>C:/MyWork/MyLearning/Career Growth/ML/Files/Da...</td>\n",
       "    </tr>\n",
       "    <tr>\n",
       "      <th>4</th>\n",
       "      <td>bed_room</td>\n",
       "      <td>C:/MyWork/MyLearning/Career Growth/ML/Files/Da...</td>\n",
       "    </tr>\n",
       "    <tr>\n",
       "      <th>...</th>\n",
       "      <td>...</td>\n",
       "      <td>...</td>\n",
       "    </tr>\n",
       "    <tr>\n",
       "      <th>388</th>\n",
       "      <td>living_room</td>\n",
       "      <td>C:/MyWork/MyLearning/Career Growth/ML/Files/Da...</td>\n",
       "    </tr>\n",
       "    <tr>\n",
       "      <th>389</th>\n",
       "      <td>living_room</td>\n",
       "      <td>C:/MyWork/MyLearning/Career Growth/ML/Files/Da...</td>\n",
       "    </tr>\n",
       "    <tr>\n",
       "      <th>390</th>\n",
       "      <td>living_room</td>\n",
       "      <td>C:/MyWork/MyLearning/Career Growth/ML/Files/Da...</td>\n",
       "    </tr>\n",
       "    <tr>\n",
       "      <th>391</th>\n",
       "      <td>living_room</td>\n",
       "      <td>C:/MyWork/MyLearning/Career Growth/ML/Files/Da...</td>\n",
       "    </tr>\n",
       "    <tr>\n",
       "      <th>392</th>\n",
       "      <td>living_room</td>\n",
       "      <td>C:/MyWork/MyLearning/Career Growth/ML/Files/Da...</td>\n",
       "    </tr>\n",
       "  </tbody>\n",
       "</table>\n",
       "<p>393 rows × 2 columns</p>\n",
       "</div>"
      ],
      "text/plain": [
       "       room type                                              image\n",
       "0       bed_room  C:/MyWork/MyLearning/Career Growth/ML/Files/Da...\n",
       "1       bed_room  C:/MyWork/MyLearning/Career Growth/ML/Files/Da...\n",
       "2       bed_room  C:/MyWork/MyLearning/Career Growth/ML/Files/Da...\n",
       "3       bed_room  C:/MyWork/MyLearning/Career Growth/ML/Files/Da...\n",
       "4       bed_room  C:/MyWork/MyLearning/Career Growth/ML/Files/Da...\n",
       "..           ...                                                ...\n",
       "388  living_room  C:/MyWork/MyLearning/Career Growth/ML/Files/Da...\n",
       "389  living_room  C:/MyWork/MyLearning/Career Growth/ML/Files/Da...\n",
       "390  living_room  C:/MyWork/MyLearning/Career Growth/ML/Files/Da...\n",
       "391  living_room  C:/MyWork/MyLearning/Career Growth/ML/Files/Da...\n",
       "392  living_room  C:/MyWork/MyLearning/Career Growth/ML/Files/Da...\n",
       "\n",
       "[393 rows x 2 columns]"
      ]
     },
     "execution_count": 6,
     "metadata": {},
     "output_type": "execute_result"
    }
   ],
   "source": [
    "rooms_df"
   ]
  },
  {
   "cell_type": "code",
   "execution_count": 7,
   "metadata": {},
   "outputs": [
    {
     "data": {
      "text/plain": [
       "['bed_room', 'bed_room', 'bed_room']"
      ]
     },
     "execution_count": 7,
     "metadata": {},
     "output_type": "execute_result"
    }
   ],
   "source": [
    "import cv2\n",
    "path = 'C:/MyWork/MyLearning/Career Growth/ML/Files/Dataset/rooms_dataset/'\n",
    "\n",
    "im_size = 64\n",
    "\n",
    "images = []\n",
    "labels = []\n",
    "\n",
    "for i in room_types:\n",
    "    data_path = path + str(i)  # entered in 1st folder and then 2nd folder and then 3rd folder\n",
    "    filenames = [i for i in os.listdir(data_path) ]\n",
    "   # print(filenames)  # will get the names of all images\n",
    "    for f in filenames:\n",
    "        img = cv2.imread(data_path + '/' + f)  # reading that image as array\n",
    "        \n",
    "        img = cv2.resize(img, (im_size, im_size))\n",
    "        images.append(img)\n",
    "        labels.append(i)\n",
    "labels[:3]"
   ]
  },
  {
   "cell_type": "code",
   "execution_count": 11,
   "metadata": {},
   "outputs": [
    {
     "data": {
      "text/plain": [
       "(393, 64, 64, 3)"
      ]
     },
     "execution_count": 11,
     "metadata": {},
     "output_type": "execute_result"
    }
   ],
   "source": [
    "# Transform the image array to a numpy type\n",
    "images = np.array(images)\n",
    "images.shape   "
   ]
  },
  {
   "cell_type": "code",
   "execution_count": 12,
   "metadata": {},
   "outputs": [],
   "source": [
    "images = images.astype('float32') / 255.0"
   ]
  },
  {
   "cell_type": "code",
   "execution_count": 15,
   "metadata": {},
   "outputs": [
    {
     "data": {
      "text/plain": [
       "array([0, 0, 0, 0, 0, 0, 0, 0, 0, 0, 0, 0, 0, 0, 0, 0, 0, 0, 0, 0, 0, 0,\n",
       "       0, 0, 0, 0, 0, 0, 0, 0, 0, 0, 0, 0, 0, 0, 0, 0, 0, 0, 0, 0, 0, 0,\n",
       "       0, 0, 0, 0, 0, 0, 0, 0, 0, 0, 0, 0, 0, 0, 0, 0, 0, 0, 0, 0, 0, 0,\n",
       "       0, 0, 0, 0, 0, 0, 0, 0, 0, 0, 0, 0, 0, 0, 0, 0, 0, 0, 0, 0, 0, 0,\n",
       "       0, 0, 0, 0, 0, 0, 0, 0, 0, 0, 0, 0, 0, 0, 0, 0, 0, 0, 0, 0, 0, 0,\n",
       "       0, 0, 0, 0, 0, 0, 0, 0, 0, 0, 0, 0, 0, 0, 0, 0, 0, 0, 0, 0, 0, 0,\n",
       "       0, 0, 0, 0, 0, 0, 0, 0, 0, 0, 0, 0, 0, 0, 0, 0, 0, 0, 0, 0, 0, 0,\n",
       "       0, 0, 0, 0, 0, 1, 1, 1, 1, 1, 1, 1, 1, 1, 1, 1, 1, 1, 1, 1, 1, 1,\n",
       "       1, 1, 1, 1, 1, 1, 1, 1, 1, 1, 1, 1, 1, 1, 1, 1, 1, 1, 1, 1, 1, 1,\n",
       "       1, 1, 1, 1, 1, 1, 1, 1, 1, 1, 1, 1, 1, 1, 1, 1, 1, 1, 1, 1, 1, 1,\n",
       "       1, 1, 1, 1, 1, 1, 1, 1, 1, 1, 1, 1, 1, 1, 1, 1, 1, 1, 1, 1, 1, 1,\n",
       "       1, 1, 1, 2, 2, 2, 2, 2, 2, 2, 2, 2, 2, 2, 2, 2, 2, 2, 2, 2, 2, 2,\n",
       "       2, 2, 2, 2, 2, 2, 2, 2, 2, 2, 2, 2, 2, 2, 2, 2, 2, 2, 2, 2, 2, 2,\n",
       "       2, 2, 2, 2, 2, 2, 2, 2, 2, 2, 2, 2, 2, 2, 2, 2, 2, 2, 2, 2, 2, 2,\n",
       "       2, 2, 2, 2, 2, 2, 2, 2, 2, 2, 2, 2, 2, 2, 2, 2, 2, 2, 2, 2, 2, 2,\n",
       "       2, 2, 2, 2, 2, 2, 2, 2, 2, 2, 2, 2, 2, 2, 2, 2, 2, 2, 2, 2, 2, 2,\n",
       "       2, 2, 2, 2, 2, 2, 2, 2, 2, 2, 2, 2, 2, 2, 2, 2, 2, 2, 2, 2, 2, 2,\n",
       "       2, 2, 2, 2, 2, 2, 2, 2, 2, 2, 2, 2, 2, 2, 2, 2, 2, 2, 2])"
      ]
     },
     "execution_count": 15,
     "metadata": {},
     "output_type": "execute_result"
    }
   ],
   "source": [
    "from sklearn.preprocessing import LabelEncoder , OneHotEncoder\n",
    "\n",
    "y=rooms_df['room type'].values\n",
    "#print(y[:5])\n",
    "\n",
    "# for y\n",
    "y_labelencoder = LabelEncoder ()\n",
    "y = y_labelencoder.fit_transform (y)\n",
    "\n",
    "y"
   ]
  },
  {
   "cell_type": "code",
   "execution_count": 16,
   "metadata": {},
   "outputs": [
    {
     "data": {
      "text/plain": [
       "(393, 3)"
      ]
     },
     "execution_count": 16,
     "metadata": {},
     "output_type": "execute_result"
    }
   ],
   "source": [
    "from sklearn.preprocessing import LabelEncoder , OneHotEncoder\n",
    "y=rooms_df['room type'].values\n",
    "#print(y[:5])\n",
    "\n",
    "# for y\n",
    "y_labelencoder = LabelEncoder ()\n",
    "y = y_labelencoder.fit_transform (y)\n",
    "#print (y)\n",
    "\n",
    "y=y.reshape(-1,1)\n",
    "#Converted  scalar output into vector output where the correct class will be 1 and other will be 0\n",
    "onehotencoder = OneHotEncoder(categories='auto') \n",
    "Y= onehotencoder.fit_transform(y)\n",
    "Y.shape  #(393, 3)"
   ]
  },
  {
   "cell_type": "code",
   "execution_count": 20,
   "metadata": {},
   "outputs": [
    {
     "data": {
      "text/plain": [
       "array([1., 0., 0.])"
      ]
     },
     "execution_count": 20,
     "metadata": {},
     "output_type": "execute_result"
    }
   ],
   "source": [
    "Y.toarray()[0]"
   ]
  },
  {
   "cell_type": "code",
   "execution_count": 21,
   "metadata": {},
   "outputs": [
    {
     "data": {
      "text/plain": [
       "(64, 64, 3)"
      ]
     },
     "execution_count": 21,
     "metadata": {},
     "output_type": "execute_result"
    }
   ],
   "source": [
    "images[0].shape # final shape of the Input Data for trainig"
   ]
  },
  {
   "cell_type": "code",
   "execution_count": 26,
   "metadata": {},
   "outputs": [
    {
     "data": {
      "text/plain": [
       "array([[[0.00215302, 0.00253749, 0.00293733],\n",
       "        [0.0021684 , 0.00255286, 0.00295271],\n",
       "        [0.00221453, 0.00261438, 0.00298347],\n",
       "        ...,\n",
       "        [0.00224529, 0.00255286, 0.00293733],\n",
       "        [0.00219915, 0.00250673, 0.0028912 ],\n",
       "        [0.00215302, 0.00246059, 0.00284506]],\n",
       "\n",
       "       [[0.00218378, 0.00256824, 0.00296809],\n",
       "        [0.00210688, 0.00249135, 0.0028912 ],\n",
       "        [0.00219915, 0.00258362, 0.00299885],\n",
       "        ...,\n",
       "        [0.00224529, 0.00253749, 0.00293733],\n",
       "        [0.00219915, 0.00249135, 0.0028912 ],\n",
       "        [0.00213764, 0.00242983, 0.00282968]],\n",
       "\n",
       "       [[0.00206075, 0.00244521, 0.00284506],\n",
       "        [0.00215302, 0.00253749, 0.00293733],\n",
       "        [0.00215302, 0.00252211, 0.00295271],\n",
       "        ...,\n",
       "        [0.00224529, 0.00253749, 0.00295271],\n",
       "        [0.00219915, 0.00249135, 0.00290657],\n",
       "        [0.00215302, 0.00244521, 0.00286044]],\n",
       "\n",
       "       ...,\n",
       "\n",
       "       [[0.00092272, 0.00141484, 0.00204537],\n",
       "        [0.00092272, 0.0014456 , 0.00210688],\n",
       "        [0.00098424, 0.00150711, 0.0021684 ],\n",
       "        ...,\n",
       "        [0.0011534 , 0.00172241, 0.00239908],\n",
       "        [0.00116878, 0.00175317, 0.00239908],\n",
       "        [0.0011534 , 0.00173779, 0.0023837 ]],\n",
       "\n",
       "       [[0.00089196, 0.00138408, 0.00201461],\n",
       "        [0.00089196, 0.00141484, 0.00207612],\n",
       "        [0.00095348, 0.00147636, 0.00213764],\n",
       "        ...,\n",
       "        [0.0011534 , 0.00172241, 0.00239908],\n",
       "        [0.00112265, 0.00170704, 0.00235294],\n",
       "        [0.00107651, 0.0016609 , 0.00230681]],\n",
       "\n",
       "       [[0.00084583, 0.00138408, 0.00199923],\n",
       "        [0.00092272, 0.00146098, 0.00212226],\n",
       "        [0.00095348, 0.00146098, 0.00215302],\n",
       "        ...,\n",
       "        [0.00107651, 0.0016609 , 0.00235294],\n",
       "        [0.0011534 , 0.00169166, 0.00236832],\n",
       "        [0.00109189, 0.00163014, 0.00229143]]], dtype=float32)"
      ]
     },
     "execution_count": 26,
     "metadata": {},
     "output_type": "execute_result"
    }
   ],
   "source": [
    "images[0]"
   ]
  },
  {
   "cell_type": "code",
   "execution_count": null,
   "metadata": {},
   "outputs": [],
   "source": []
  }
 ],
 "metadata": {
  "kernelspec": {
   "display_name": "Python 3",
   "language": "python",
   "name": "python3"
  },
  "language_info": {
   "codemirror_mode": {
    "name": "ipython",
    "version": 3
   },
   "file_extension": ".py",
   "mimetype": "text/x-python",
   "name": "python",
   "nbconvert_exporter": "python",
   "pygments_lexer": "ipython3",
   "version": "3.7.4"
  }
 },
 "nbformat": 4,
 "nbformat_minor": 2
}
